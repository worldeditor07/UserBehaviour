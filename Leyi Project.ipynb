{
 "cells": [
  {
   "cell_type": "code",
   "execution_count": 1,
   "metadata": {},
   "outputs": [],
   "source": [
    "import numpy as np\n",
    "import pandas as pd\n",
    "import matplotlib.pyplot as plt\n",
    "% matplotlib inline"
   ]
  },
  {
   "cell_type": "markdown",
   "metadata": {},
   "source": [
    "## Project Overview\n",
    "    1. Understand the basic information of the data\n",
    "    2. Understand the actions, group them into different classes, by number of users, by number of days, ect.\n",
    "    3. Understand player behaviour, by time of the week, by actions taken per week"
   ]
  },
  {
   "cell_type": "code",
   "execution_count": 13,
   "metadata": {},
   "outputs": [],
   "source": [
    "data_path=\"C:\\\\Users\\\\Hua\\\\Desktop\\\\Python\\\\Leyi\\\\uid_day_command.csv\""
   ]
  },
  {
   "cell_type": "code",
   "execution_count": 14,
   "metadata": {},
   "outputs": [
    {
     "data": {
      "text/html": [
       "<div>\n",
       "<style scoped>\n",
       "    .dataframe tbody tr th:only-of-type {\n",
       "        vertical-align: middle;\n",
       "    }\n",
       "\n",
       "    .dataframe tbody tr th {\n",
       "        vertical-align: top;\n",
       "    }\n",
       "\n",
       "    .dataframe thead th {\n",
       "        text-align: right;\n",
       "    }\n",
       "</style>\n",
       "<table border=\"1\" class=\"dataframe\">\n",
       "  <thead>\n",
       "    <tr style=\"text-align: right;\">\n",
       "      <th></th>\n",
       "      <th>uid</th>\n",
       "      <th>day</th>\n",
       "      <th>command</th>\n",
       "      <th>n</th>\n",
       "    </tr>\n",
       "  </thead>\n",
       "  <tbody>\n",
       "    <tr>\n",
       "      <th>0</th>\n",
       "      <td>1</td>\n",
       "      <td>2017-11-02</td>\n",
       "      <td>operate_login_get</td>\n",
       "      <td>1</td>\n",
       "    </tr>\n",
       "    <tr>\n",
       "      <th>1</th>\n",
       "      <td>1</td>\n",
       "      <td>2017-11-17</td>\n",
       "      <td>op_reset_map</td>\n",
       "      <td>1</td>\n",
       "    </tr>\n",
       "    <tr>\n",
       "      <th>2</th>\n",
       "      <td>1000004</td>\n",
       "      <td>2017-11-05</td>\n",
       "      <td>op_player_map_check</td>\n",
       "      <td>1</td>\n",
       "    </tr>\n",
       "    <tr>\n",
       "      <th>3</th>\n",
       "      <td>1000004</td>\n",
       "      <td>2017-11-05</td>\n",
       "      <td>op_recovery_player_map</td>\n",
       "      <td>1</td>\n",
       "    </tr>\n",
       "    <tr>\n",
       "      <th>4</th>\n",
       "      <td>1000004</td>\n",
       "      <td>2017-11-08</td>\n",
       "      <td>op_player_map_check</td>\n",
       "      <td>1</td>\n",
       "    </tr>\n",
       "    <tr>\n",
       "      <th>5</th>\n",
       "      <td>1000004</td>\n",
       "      <td>2017-11-08</td>\n",
       "      <td>op_recovery_player_map</td>\n",
       "      <td>1</td>\n",
       "    </tr>\n",
       "    <tr>\n",
       "      <th>6</th>\n",
       "      <td>1000004</td>\n",
       "      <td>2017-11-14</td>\n",
       "      <td>op_player_map_check</td>\n",
       "      <td>1</td>\n",
       "    </tr>\n",
       "    <tr>\n",
       "      <th>7</th>\n",
       "      <td>1000004</td>\n",
       "      <td>2017-11-14</td>\n",
       "      <td>op_recovery_player_map</td>\n",
       "      <td>1</td>\n",
       "    </tr>\n",
       "    <tr>\n",
       "      <th>8</th>\n",
       "      <td>1000004</td>\n",
       "      <td>2017-11-15</td>\n",
       "      <td>op_player_map_check</td>\n",
       "      <td>1</td>\n",
       "    </tr>\n",
       "    <tr>\n",
       "      <th>9</th>\n",
       "      <td>1000004</td>\n",
       "      <td>2017-11-15</td>\n",
       "      <td>op_recovery_player_map</td>\n",
       "      <td>1</td>\n",
       "    </tr>\n",
       "  </tbody>\n",
       "</table>\n",
       "</div>"
      ],
      "text/plain": [
       "       uid         day                 command  n\n",
       "0        1  2017-11-02       operate_login_get  1\n",
       "1        1  2017-11-17            op_reset_map  1\n",
       "2  1000004  2017-11-05     op_player_map_check  1\n",
       "3  1000004  2017-11-05  op_recovery_player_map  1\n",
       "4  1000004  2017-11-08     op_player_map_check  1\n",
       "5  1000004  2017-11-08  op_recovery_player_map  1\n",
       "6  1000004  2017-11-14     op_player_map_check  1\n",
       "7  1000004  2017-11-14  op_recovery_player_map  1\n",
       "8  1000004  2017-11-15     op_player_map_check  1\n",
       "9  1000004  2017-11-15  op_recovery_player_map  1"
      ]
     },
     "execution_count": 14,
     "metadata": {},
     "output_type": "execute_result"
    }
   ],
   "source": [
    "df = pd.read_csv(data_path)\n",
    "df.head(10)"
   ]
  },
  {
   "cell_type": "code",
   "execution_count": 22,
   "metadata": {},
   "outputs": [
    {
     "name": "stdout",
     "output_type": "stream",
     "text": [
      "Size of dataframe: (47598687, 4)\n"
     ]
    }
   ],
   "source": [
    "print(\"Size of dataframe: {0}\".format(df.shape))"
   ]
  },
  {
   "cell_type": "code",
   "execution_count": 24,
   "metadata": {},
   "outputs": [],
   "source": [
    "# so we have user id, day of the action, and the action type, with corresponding count as the fields\n",
    "# we make a new dataframe, which has each user with aggregated data"
   ]
  },
  {
   "cell_type": "code",
   "execution_count": 111,
   "metadata": {},
   "outputs": [],
   "source": [
    "df['DateNum'] = pd.to_datetime(df.day, format = '%Y-%m-%d')\n",
    "df.drop(columns='day', inplace=True)"
   ]
  },
  {
   "cell_type": "code",
   "execution_count": 150,
   "metadata": {},
   "outputs": [],
   "source": [
    "# we want to create a summarized data frame to analyze each user\n",
    "# so we need to group by the uid\n",
    "uids = df.uid.unique()\n",
    "lastTimeRecordAction = df.groupby('uid')['DateNum'].max()\n",
    "firstTimeRecordAction = df.groupby('uid')['DateNum'].min()\n",
    "maximumGapOfAction = df.groupby('uid')['DateNum'].apply(lambda x: np.max(np.diff(x)) if x.size > 1 else -1).astype('int64')\n",
    "numberOfActiveDays = df.groupby('uid')['DateNum'].apply(lambda x: x.unique().size)"
   ]
  },
  {
   "cell_type": "code",
   "execution_count": 162,
   "metadata": {
    "scrolled": false
   },
   "outputs": [
    {
     "name": "stdout",
     "output_type": "stream",
     "text": [
      "There are 91940 users who only logged in once in November. \n",
      "\n"
     ]
    }
   ],
   "source": [
    "print(\"There are {0:d} users who only logged in once in November. \\n\".format(np.sum(maximumGapOfAction < 0)))"
   ]
  },
  {
   "cell_type": "code",
   "execution_count": 164,
   "metadata": {
    "scrolled": true
   },
   "outputs": [
    {
     "data": {
      "text/plain": [
       "91940"
      ]
     },
     "execution_count": 164,
     "metadata": {},
     "output_type": "execute_result"
    }
   ],
   "source": [
    "(df.uid.value_counts() == 1).sum()"
   ]
  },
  {
   "cell_type": "code",
   "execution_count": 171,
   "metadata": {},
   "outputs": [
    {
     "data": {
      "text/plain": [
       "282915"
      ]
     },
     "execution_count": 171,
     "metadata": {},
     "output_type": "execute_result"
    }
   ],
   "source": [
    "x = df.uid.unique()\n",
    "x.size"
   ]
  },
  {
   "cell_type": "code",
   "execution_count": 174,
   "metadata": {},
   "outputs": [
    {
     "data": {
      "text/plain": [
       "uid\n",
       "4460914     1\n",
       "4753911     1\n",
       "9362542     1\n",
       "9688815     1\n",
       "78879614    1\n",
       "Name: DateNum, dtype: int64"
      ]
     },
     "execution_count": 174,
     "metadata": {},
     "output_type": "execute_result"
    }
   ],
   "source": [
    "numberOfActiveDays.tail()"
   ]
  }
 ],
 "metadata": {
  "kernelspec": {
   "display_name": "Python 3",
   "language": "python",
   "name": "python3"
  },
  "language_info": {
   "codemirror_mode": {
    "name": "ipython",
    "version": 3
   },
   "file_extension": ".py",
   "mimetype": "text/x-python",
   "name": "python",
   "nbconvert_exporter": "python",
   "pygments_lexer": "ipython3",
   "version": "3.6.3"
  }
 },
 "nbformat": 4,
 "nbformat_minor": 2
}
